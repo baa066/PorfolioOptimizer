{
  "nbformat": 4,
  "nbformat_minor": 0,
  "metadata": {
    "colab": {
      "name": "Portfolio Optimizer",
      "provenance": [],
      "collapsed_sections": [],
      "authorship_tag": "ABX9TyMoSEI2gLu3yCzjYHR+pDWt",
      "include_colab_link": true
    },
    "kernelspec": {
      "name": "python3",
      "display_name": "Python 3"
    },
    "language_info": {
      "name": "python"
    }
  },
  "cells": [
    {
      "cell_type": "markdown",
      "metadata": {
        "id": "view-in-github",
        "colab_type": "text"
      },
      "source": [
        "<a href=\"https://colab.research.google.com/github/baa066/PorfolioOptimizer/blob/main/PortfolioOptimizer.ipynb\" target=\"_parent\"><img src=\"https://colab.research.google.com/assets/colab-badge.svg\" alt=\"Open In Colab\"/></a>"
      ]
    },
    {
      "cell_type": "code",
      "metadata": {
        "id": "4XMwnMHqyMHo"
      },
      "source": [
        "# Description: This program attempts to optimize a user's portfolio using the Efficient Frontier & Python.\n",
        "# Import the python libraries\n",
        "from pandas_datareader import data as web\n",
        "import pandas as pd\n",
        "import numpy as np\n",
        "from datetime import datetime\n",
        "import matplotlib.pyplot as plt\n",
        "plt.style.use('fivethirtyeight')"
      ],
      "execution_count": null,
      "outputs": []
    },
    {
      "cell_type": "code",
      "metadata": {
        "id": "d2bpfE54yQfS"
      },
      "source": [
        "# Create the fictional portfolio\n",
        "assets =  [\"ANKR-USD\", \"RVN-USD\", \"UMA-USD\"] #<------Set your Tickers"
      ],
      "execution_count": null,
      "outputs": []
    },
    {
      "cell_type": "code",
      "metadata": {
        "colab": {
          "base_uri": "https://localhost:8080/"
        },
        "id": "7TMYbIGnyU8Q",
        "outputId": "578bdfd5-c09c-4d23-b367-4764d63b0d62"
      },
      "source": [
        "# Assign weights to the stocks. Weights must = 1 so 0.25 for each. \n",
        "# Example: This means if I had a total of $100 USD in the portfolio, then I would have $25 USD in each stock. \n",
        "weights = np.array([0.4,0.3,0.3]) #<------Set your weights\n",
        "weights"
      ],
      "execution_count": null,
      "outputs": [
        {
          "output_type": "execute_result",
          "data": {
            "text/plain": [
              "array([0.4, 0.3, 0.3])"
            ]
          },
          "metadata": {
            "tags": []
          },
          "execution_count": 184
        }
      ]
    },
    {
      "cell_type": "code",
      "metadata": {
        "id": "VMDXIxiTyW1e"
      },
      "source": [
        "# Get the stock starting date\n",
        "stockStartDate = '2021-04-01' #<------Set your historical lookback date YYYY-MM-DD"
      ],
      "execution_count": null,
      "outputs": []
    },
    {
      "cell_type": "code",
      "metadata": {
        "id": "Yf8FWce9ywux"
      },
      "source": [
        "# Get the stocks ending date aka todays date and format it in the form YYYY-MM-DD\n",
        "today = datetime.today().strftime('%Y-%m-%d')"
      ],
      "execution_count": null,
      "outputs": []
    },
    {
      "cell_type": "code",
      "metadata": {
        "colab": {
          "base_uri": "https://localhost:8080/",
          "height": 35
        },
        "id": "g9LDdYxoG952",
        "outputId": "efaffb0f-f675-403c-c0ed-be66a1b1e923"
      },
      "source": [
        "today"
      ],
      "execution_count": null,
      "outputs": [
        {
          "output_type": "execute_result",
          "data": {
            "application/vnd.google.colaboratory.intrinsic+json": {
              "type": "string"
            },
            "text/plain": [
              "'2021-04-21'"
            ]
          },
          "metadata": {
            "tags": []
          },
          "execution_count": 187
        }
      ]
    },
    {
      "cell_type": "code",
      "metadata": {
        "id": "Fmq1NCvKyYVQ"
      },
      "source": [
        "#Create a dataframe to store the adjusted close price of the stocks\n",
        "df = pd.DataFrame()\n",
        "#Store the adjusted close price of stock into the data frame\n",
        "for stock in assets:\n",
        "   df[stock] = web.DataReader(stock,data_source='yahoo',start=stockStartDate,end=today)['Close']"
      ],
      "execution_count": null,
      "outputs": []
    },
    {
      "cell_type": "code",
      "metadata": {
        "id": "Vg6Ppp3Nylfu",
        "colab": {
          "base_uri": "https://localhost:8080/",
          "height": 723
        },
        "outputId": "ba4a082f-0a84-4ac4-ac65-4bcf949807cb"
      },
      "source": [
        "df"
      ],
      "execution_count": null,
      "outputs": [
        {
          "output_type": "execute_result",
          "data": {
            "text/html": [
              "<div>\n",
              "<style scoped>\n",
              "    .dataframe tbody tr th:only-of-type {\n",
              "        vertical-align: middle;\n",
              "    }\n",
              "\n",
              "    .dataframe tbody tr th {\n",
              "        vertical-align: top;\n",
              "    }\n",
              "\n",
              "    .dataframe thead th {\n",
              "        text-align: right;\n",
              "    }\n",
              "</style>\n",
              "<table border=\"1\" class=\"dataframe\">\n",
              "  <thead>\n",
              "    <tr style=\"text-align: right;\">\n",
              "      <th></th>\n",
              "      <th>ANKR-USD</th>\n",
              "      <th>RVN-USD</th>\n",
              "      <th>UMA-USD</th>\n",
              "    </tr>\n",
              "    <tr>\n",
              "      <th>Date</th>\n",
              "      <th></th>\n",
              "      <th></th>\n",
              "      <th></th>\n",
              "    </tr>\n",
              "  </thead>\n",
              "  <tbody>\n",
              "    <tr>\n",
              "      <th>2021-03-31</th>\n",
              "      <td>0.168392</td>\n",
              "      <td>0.194041</td>\n",
              "      <td>24.399267</td>\n",
              "    </tr>\n",
              "    <tr>\n",
              "      <th>2021-04-01</th>\n",
              "      <td>0.176601</td>\n",
              "      <td>0.193464</td>\n",
              "      <td>25.477434</td>\n",
              "    </tr>\n",
              "    <tr>\n",
              "      <th>2021-04-02</th>\n",
              "      <td>0.159970</td>\n",
              "      <td>0.183602</td>\n",
              "      <td>24.819662</td>\n",
              "    </tr>\n",
              "    <tr>\n",
              "      <th>2021-04-03</th>\n",
              "      <td>0.169083</td>\n",
              "      <td>0.187631</td>\n",
              "      <td>25.641806</td>\n",
              "    </tr>\n",
              "    <tr>\n",
              "      <th>2021-04-04</th>\n",
              "      <td>0.157654</td>\n",
              "      <td>0.195299</td>\n",
              "      <td>26.143251</td>\n",
              "    </tr>\n",
              "    <tr>\n",
              "      <th>2021-04-05</th>\n",
              "      <td>0.150154</td>\n",
              "      <td>0.186549</td>\n",
              "      <td>25.295107</td>\n",
              "    </tr>\n",
              "    <tr>\n",
              "      <th>2021-04-06</th>\n",
              "      <td>0.137151</td>\n",
              "      <td>0.178388</td>\n",
              "      <td>23.189873</td>\n",
              "    </tr>\n",
              "    <tr>\n",
              "      <th>2021-04-07</th>\n",
              "      <td>0.154304</td>\n",
              "      <td>0.185721</td>\n",
              "      <td>24.452158</td>\n",
              "    </tr>\n",
              "    <tr>\n",
              "      <th>2021-04-08</th>\n",
              "      <td>0.157898</td>\n",
              "      <td>0.188207</td>\n",
              "      <td>24.670410</td>\n",
              "    </tr>\n",
              "    <tr>\n",
              "      <th>2021-04-09</th>\n",
              "      <td>0.149952</td>\n",
              "      <td>0.188626</td>\n",
              "      <td>28.092058</td>\n",
              "    </tr>\n",
              "    <tr>\n",
              "      <th>2021-04-10</th>\n",
              "      <td>0.147186</td>\n",
              "      <td>0.187215</td>\n",
              "      <td>27.156404</td>\n",
              "    </tr>\n",
              "    <tr>\n",
              "      <th>2021-04-11</th>\n",
              "      <td>0.158867</td>\n",
              "      <td>0.186327</td>\n",
              "      <td>27.196123</td>\n",
              "    </tr>\n",
              "    <tr>\n",
              "      <th>2021-04-12</th>\n",
              "      <td>0.163954</td>\n",
              "      <td>0.191592</td>\n",
              "      <td>26.669508</td>\n",
              "    </tr>\n",
              "    <tr>\n",
              "      <th>2021-04-13</th>\n",
              "      <td>0.156415</td>\n",
              "      <td>0.235932</td>\n",
              "      <td>26.664331</td>\n",
              "    </tr>\n",
              "    <tr>\n",
              "      <th>2021-04-14</th>\n",
              "      <td>0.172600</td>\n",
              "      <td>0.223291</td>\n",
              "      <td>29.774527</td>\n",
              "    </tr>\n",
              "    <tr>\n",
              "      <th>2021-04-15</th>\n",
              "      <td>0.184458</td>\n",
              "      <td>0.203550</td>\n",
              "      <td>29.166182</td>\n",
              "    </tr>\n",
              "    <tr>\n",
              "      <th>2021-04-16</th>\n",
              "      <td>0.188305</td>\n",
              "      <td>0.217794</td>\n",
              "      <td>28.890728</td>\n",
              "    </tr>\n",
              "    <tr>\n",
              "      <th>2021-04-17</th>\n",
              "      <td>0.165726</td>\n",
              "      <td>0.196050</td>\n",
              "      <td>32.849297</td>\n",
              "    </tr>\n",
              "    <tr>\n",
              "      <th>2021-04-18</th>\n",
              "      <td>0.150825</td>\n",
              "      <td>0.183779</td>\n",
              "      <td>27.011726</td>\n",
              "    </tr>\n",
              "    <tr>\n",
              "      <th>2021-04-19</th>\n",
              "      <td>0.152926</td>\n",
              "      <td>0.181980</td>\n",
              "      <td>28.220678</td>\n",
              "    </tr>\n",
              "    <tr>\n",
              "      <th>2021-04-21</th>\n",
              "      <td>0.153104</td>\n",
              "      <td>0.187103</td>\n",
              "      <td>26.707758</td>\n",
              "    </tr>\n",
              "  </tbody>\n",
              "</table>\n",
              "</div>"
            ],
            "text/plain": [
              "            ANKR-USD   RVN-USD    UMA-USD\n",
              "Date                                     \n",
              "2021-03-31  0.168392  0.194041  24.399267\n",
              "2021-04-01  0.176601  0.193464  25.477434\n",
              "2021-04-02  0.159970  0.183602  24.819662\n",
              "2021-04-03  0.169083  0.187631  25.641806\n",
              "2021-04-04  0.157654  0.195299  26.143251\n",
              "2021-04-05  0.150154  0.186549  25.295107\n",
              "2021-04-06  0.137151  0.178388  23.189873\n",
              "2021-04-07  0.154304  0.185721  24.452158\n",
              "2021-04-08  0.157898  0.188207  24.670410\n",
              "2021-04-09  0.149952  0.188626  28.092058\n",
              "2021-04-10  0.147186  0.187215  27.156404\n",
              "2021-04-11  0.158867  0.186327  27.196123\n",
              "2021-04-12  0.163954  0.191592  26.669508\n",
              "2021-04-13  0.156415  0.235932  26.664331\n",
              "2021-04-14  0.172600  0.223291  29.774527\n",
              "2021-04-15  0.184458  0.203550  29.166182\n",
              "2021-04-16  0.188305  0.217794  28.890728\n",
              "2021-04-17  0.165726  0.196050  32.849297\n",
              "2021-04-18  0.150825  0.183779  27.011726\n",
              "2021-04-19  0.152926  0.181980  28.220678\n",
              "2021-04-21  0.153104  0.187103  26.707758"
            ]
          },
          "metadata": {
            "tags": []
          },
          "execution_count": 189
        }
      ]
    },
    {
      "cell_type": "code",
      "metadata": {
        "id": "bHegZE-Ozbyi",
        "colab": {
          "base_uri": "https://localhost:8080/",
          "height": 354
        },
        "outputId": "35dd1d57-53c2-4ec0-976b-4a1938cd4d59"
      },
      "source": [
        "# Create the title 'Portfolio Adj Close Price History\n",
        "title = 'Portfolio Adj. Close Price History    '\n",
        "\n",
        "# Get the stocks\n",
        "my_stocks = df\n",
        "\n",
        "# Create and plot the graph\n",
        "plt.figure(figsize=(12.2,4.5)) #width = 12.2in, height = 4.5\n",
        "\n",
        "# Loop through each stock and plot the Adj Close for each day\n",
        "for c in my_stocks.columns.values:\n",
        "  plt.plot( my_stocks[c],  label=c)#plt.plot( X-Axis , Y-Axis, line_width, alpha_for_blending,  label)\n",
        "plt.title(title)\n",
        "plt.xlabel('Date',fontsize=18)\n",
        "plt.ylabel('Adj. Price USD ($)',fontsize=18)\n",
        "plt.legend(my_stocks.columns.values, loc='upper left')\n",
        "plt.show()"
      ],
      "execution_count": null,
      "outputs": [
        {
          "output_type": "display_data",
          "data": {
            "image/png": "[encoded data removed]",
            "text/plain": [
              "<Figure size 878.4x324 with 1 Axes>"
            ]
          },
          "metadata": {
            "tags": []
          }
        }
      ]
    },
    {
      "cell_type": "code",
      "metadata": {
        "id": "PpG377Pfzfvz",
        "colab": {
          "base_uri": "https://localhost:8080/",
          "height": 723
        },
        "outputId": "bfcc0465-deff-48cf-caa8-05bc0fde90d7"
      },
      "source": [
        "# Show the daily simple returns, NOTE: Formula = new_price/old_price - 1\n",
        "returns = df.pct_change()\n",
        "returns"
      ],
      "execution_count": null,
      "outputs": [
        {
          "output_type": "execute_result",
          "data": {
            "text/html": [
              "<div>\n",
              "<style scoped>\n",
              "    .dataframe tbody tr th:only-of-type {\n",
              "        vertical-align: middle;\n",
              "    }\n",
              "\n",
              "    .dataframe tbody tr th {\n",
              "        vertical-align: top;\n",
              "    }\n",
              "\n",
              "    .dataframe thead th {\n",
              "        text-align: right;\n",
              "    }\n",
              "</style>\n",
              "<table border=\"1\" class=\"dataframe\">\n",
              "  <thead>\n",
              "    <tr style=\"text-align: right;\">\n",
              "      <th></th>\n",
              "      <th>ANKR-USD</th>\n",
              "      <th>RVN-USD</th>\n",
              "      <th>UMA-USD</th>\n",
              "    </tr>\n",
              "    <tr>\n",
              "      <th>Date</th>\n",
              "      <th></th>\n",
              "      <th></th>\n",
              "      <th></th>\n",
              "    </tr>\n",
              "  </thead>\n",
              "  <tbody>\n",
              "    <tr>\n",
              "      <th>2021-03-31</th>\n",
              "      <td>NaN</td>\n",
              "      <td>NaN</td>\n",
              "      <td>NaN</td>\n",
              "    </tr>\n",
              "    <tr>\n",
              "      <th>2021-04-01</th>\n",
              "      <td>0.048749</td>\n",
              "      <td>-0.002974</td>\n",
              "      <td>0.044188</td>\n",
              "    </tr>\n",
              "    <tr>\n",
              "      <th>2021-04-02</th>\n",
              "      <td>-0.094173</td>\n",
              "      <td>-0.050976</td>\n",
              "      <td>-0.025818</td>\n",
              "    </tr>\n",
              "    <tr>\n",
              "      <th>2021-04-03</th>\n",
              "      <td>0.056967</td>\n",
              "      <td>0.021944</td>\n",
              "      <td>0.033125</td>\n",
              "    </tr>\n",
              "    <tr>\n",
              "      <th>2021-04-04</th>\n",
              "      <td>-0.067594</td>\n",
              "      <td>0.040867</td>\n",
              "      <td>0.019556</td>\n",
              "    </tr>\n",
              "    <tr>\n",
              "      <th>2021-04-05</th>\n",
              "      <td>-0.047573</td>\n",
              "      <td>-0.044803</td>\n",
              "      <td>-0.032442</td>\n",
              "    </tr>\n",
              "    <tr>\n",
              "      <th>2021-04-06</th>\n",
              "      <td>-0.086598</td>\n",
              "      <td>-0.043747</td>\n",
              "      <td>-0.083227</td>\n",
              "    </tr>\n",
              "    <tr>\n",
              "      <th>2021-04-07</th>\n",
              "      <td>0.125066</td>\n",
              "      <td>0.041107</td>\n",
              "      <td>0.054433</td>\n",
              "    </tr>\n",
              "    <tr>\n",
              "      <th>2021-04-08</th>\n",
              "      <td>0.023292</td>\n",
              "      <td>0.013386</td>\n",
              "      <td>0.008926</td>\n",
              "    </tr>\n",
              "    <tr>\n",
              "      <th>2021-04-09</th>\n",
              "      <td>-0.050324</td>\n",
              "      <td>0.002226</td>\n",
              "      <td>0.138694</td>\n",
              "    </tr>\n",
              "    <tr>\n",
              "      <th>2021-04-10</th>\n",
              "      <td>-0.018446</td>\n",
              "      <td>-0.007480</td>\n",
              "      <td>-0.033307</td>\n",
              "    </tr>\n",
              "    <tr>\n",
              "      <th>2021-04-11</th>\n",
              "      <td>0.079362</td>\n",
              "      <td>-0.004743</td>\n",
              "      <td>0.001463</td>\n",
              "    </tr>\n",
              "    <tr>\n",
              "      <th>2021-04-12</th>\n",
              "      <td>0.032021</td>\n",
              "      <td>0.028257</td>\n",
              "      <td>-0.019364</td>\n",
              "    </tr>\n",
              "    <tr>\n",
              "      <th>2021-04-13</th>\n",
              "      <td>-0.045982</td>\n",
              "      <td>0.231429</td>\n",
              "      <td>-0.000194</td>\n",
              "    </tr>\n",
              "    <tr>\n",
              "      <th>2021-04-14</th>\n",
              "      <td>0.103475</td>\n",
              "      <td>-0.053579</td>\n",
              "      <td>0.116643</td>\n",
              "    </tr>\n",
              "    <tr>\n",
              "      <th>2021-04-15</th>\n",
              "      <td>0.068702</td>\n",
              "      <td>-0.088409</td>\n",
              "      <td>-0.020432</td>\n",
              "    </tr>\n",
              "    <tr>\n",
              "      <th>2021-04-16</th>\n",
              "      <td>0.020856</td>\n",
              "      <td>0.069978</td>\n",
              "      <td>-0.009444</td>\n",
              "    </tr>\n",
              "    <tr>\n",
              "      <th>2021-04-17</th>\n",
              "      <td>-0.119907</td>\n",
              "      <td>-0.099837</td>\n",
              "      <td>0.137019</td>\n",
              "    </tr>\n",
              "    <tr>\n",
              "      <th>2021-04-18</th>\n",
              "      <td>-0.089914</td>\n",
              "      <td>-0.062591</td>\n",
              "      <td>-0.177708</td>\n",
              "    </tr>\n",
              "    <tr>\n",
              "      <th>2021-04-19</th>\n",
              "      <td>0.013930</td>\n",
              "      <td>-0.009789</td>\n",
              "      <td>0.044757</td>\n",
              "    </tr>\n",
              "    <tr>\n",
              "      <th>2021-04-21</th>\n",
              "      <td>0.001167</td>\n",
              "      <td>0.028149</td>\n",
              "      <td>-0.053610</td>\n",
              "    </tr>\n",
              "  </tbody>\n",
              "</table>\n",
              "</div>"
            ],
            "text/plain": [
              "            ANKR-USD   RVN-USD   UMA-USD\n",
              "Date                                    \n",
              "2021-03-31       NaN       NaN       NaN\n",
              "2021-04-01  0.048749 -0.002974  0.044188\n",
              "2021-04-02 -0.094173 -0.050976 -0.025818\n",
              "2021-04-03  0.056967  0.021944  0.033125\n",
              "2021-04-04 -0.067594  0.040867  0.019556\n",
              "2021-04-05 -0.047573 -0.044803 -0.032442\n",
              "2021-04-06 -0.086598 -0.043747 -0.083227\n",
              "2021-04-07  0.125066  0.041107  0.054433\n",
              "2021-04-08  0.023292  0.013386  0.008926\n",
              "2021-04-09 -0.050324  0.002226  0.138694\n",
              "2021-04-10 -0.018446 -0.007480 -0.033307\n",
              "2021-04-11  0.079362 -0.004743  0.001463\n",
              "2021-04-12  0.032021  0.028257 -0.019364\n",
              "2021-04-13 -0.045982  0.231429 -0.000194\n",
              "2021-04-14  0.103475 -0.053579  0.116643\n",
              "2021-04-15  0.068702 -0.088409 -0.020432\n",
              "2021-04-16  0.020856  0.069978 -0.009444\n",
              "2021-04-17 -0.119907 -0.099837  0.137019\n",
              "2021-04-18 -0.089914 -0.062591 -0.177708\n",
              "2021-04-19  0.013930 -0.009789  0.044757\n",
              "2021-04-21  0.001167  0.028149 -0.053610"
            ]
          },
          "metadata": {
            "tags": []
          },
          "execution_count": 191
        }
      ]
    },
    {
      "cell_type": "code",
      "metadata": {
        "id": "H7kE2vdAzoY3",
        "colab": {
          "base_uri": "https://localhost:8080/",
          "height": 141
        },
        "outputId": "5261516a-e2bc-4ead-cceb-597df3f8a7ca"
      },
      "source": [
        "# To show the annualized co-variance matrix we must multiply the co-variance matrix by the number of trading days for the current year. \n",
        "# In this case the number of trading days will be 252 for this year\n",
        "cov_matrix_annual = returns.cov() * 252\n",
        "cov_matrix_annual"
      ],
      "execution_count": null,
      "outputs": [
        {
          "output_type": "execute_result",
          "data": {
            "text/html": [
              "<div>\n",
              "<style scoped>\n",
              "    .dataframe tbody tr th:only-of-type {\n",
              "        vertical-align: middle;\n",
              "    }\n",
              "\n",
              "    .dataframe tbody tr th {\n",
              "        vertical-align: top;\n",
              "    }\n",
              "\n",
              "    .dataframe thead th {\n",
              "        text-align: right;\n",
              "    }\n",
              "</style>\n",
              "<table border=\"1\" class=\"dataframe\">\n",
              "  <thead>\n",
              "    <tr style=\"text-align: right;\">\n",
              "      <th></th>\n",
              "      <th>ANKR-USD</th>\n",
              "      <th>RVN-USD</th>\n",
              "      <th>UMA-USD</th>\n",
              "    </tr>\n",
              "  </thead>\n",
              "  <tbody>\n",
              "    <tr>\n",
              "      <th>ANKR-USD</th>\n",
              "      <td>1.269625</td>\n",
              "      <td>0.156309</td>\n",
              "      <td>0.331199</td>\n",
              "    </tr>\n",
              "    <tr>\n",
              "      <th>RVN-USD</th>\n",
              "      <td>0.156309</td>\n",
              "      <td>1.264566</td>\n",
              "      <td>0.006007</td>\n",
              "    </tr>\n",
              "    <tr>\n",
              "      <th>UMA-USD</th>\n",
              "      <td>0.331199</td>\n",
              "      <td>0.006007</td>\n",
              "      <td>1.381498</td>\n",
              "    </tr>\n",
              "  </tbody>\n",
              "</table>\n",
              "</div>"
            ],
            "text/plain": [
              "          ANKR-USD   RVN-USD   UMA-USD\n",
              "ANKR-USD  1.269625  0.156309  0.331199\n",
              "RVN-USD   0.156309  1.264566  0.006007\n",
              "UMA-USD   0.331199  0.006007  1.381498"
            ]
          },
          "metadata": {
            "tags": []
          },
          "execution_count": 192
        }
      ]
    },
    {
      "cell_type": "code",
      "metadata": {
        "id": "cOIldjs3zwqQ",
        "colab": {
          "base_uri": "https://localhost:8080/"
        },
        "outputId": "2755095b-f60b-4195-dc91-370a1916e04a"
      },
      "source": [
        "# Now calculate and show the portfolio variance using the formula:\n",
        "# Expected portfolio variance = WT * (Covariance Matrix) * W\n",
        "port_variance = np.dot(weights.T, np.dot(cov_matrix_annual, weights))\n",
        "port_variance"
      ],
      "execution_count": null,
      "outputs": [
        {
          "output_type": "execute_result",
          "data": {
            "text/plain": [
              "0.5593690765294833"
            ]
          },
          "metadata": {
            "tags": []
          },
          "execution_count": 193
        }
      ]
    },
    {
      "cell_type": "code",
      "metadata": {
        "id": "AzS9N-mCzyKf",
        "colab": {
          "base_uri": "https://localhost:8080/"
        },
        "outputId": "97269752-4078-4bb5-ea7b-4609dbd7342d"
      },
      "source": [
        "# Now calculate and show the portfolio volatility using the formula:\n",
        "# Expected portfolio volatility = SQRT (WT * (Covariance Matrix) * W)\n",
        "# Don’t forget the volatility (standard deviation) is just the square root of the variance.\n",
        "port_volatility = np.sqrt(port_variance)\n",
        "port_volatility"
      ],
      "execution_count": null,
      "outputs": [
        {
          "output_type": "execute_result",
          "data": {
            "text/plain": [
              "0.7479098050764432"
            ]
          },
          "metadata": {
            "tags": []
          },
          "execution_count": 194
        }
      ]
    },
    {
      "cell_type": "code",
      "metadata": {
        "id": "lrcIAnjgz0zB",
        "colab": {
          "base_uri": "https://localhost:8080/"
        },
        "outputId": "41a4ad84-b38b-4730-fdca-015748846d46"
      },
      "source": [
        "# Calculate the portfolio annual simple return.\n",
        "portfolioSimpleAnnualReturn = np.sum(returns.mean()*weights) * 252\n",
        "portfolioSimpleAnnualReturn"
      ],
      "execution_count": null,
      "outputs": [
        {
          "output_type": "execute_result",
          "data": {
            "text/plain": [
              "0.3368275096218557"
            ]
          },
          "metadata": {
            "tags": []
          },
          "execution_count": 195
        }
      ]
    },
    {
      "cell_type": "code",
      "metadata": {
        "id": "ByfcQO0Xz2Tf",
        "colab": {
          "base_uri": "https://localhost:8080/"
        },
        "outputId": "4165f3e9-ab10-47a0-c785-2aebef3a6697"
      },
      "source": [
        "# Show the expected annual return, volatility or risk, and variance.\n",
        "percent_var = str(round(port_variance, 2) * 100) + '%'\n",
        "percent_vols = str(round(port_volatility, 2) * 100) + '%'\n",
        "percent_ret = str(round(portfolioSimpleAnnualReturn, 2)*100)+'%'\n",
        "print(\"Expected annual return : \"+ percent_ret)\n",
        "print('Annual volatility/standard deviation/risk : '+percent_vols)\n",
        "print('Annual variance : '+percent_var)"
      ],
      "execution_count": null,
      "outputs": [
        {
          "output_type": "stream",
          "text": [
            "Expected annual return : 34.0%\n",
            "Annual volatility/standard deviation/risk : 75.0%\n",
            "Annual variance : 56.00000000000001%\n"
          ],
          "name": "stdout"
        }
      ]
    },
    {
      "cell_type": "code",
      "metadata": {
        "id": "8NDYhhNcz_tk",
        "colab": {
          "base_uri": "https://localhost:8080/"
        },
        "outputId": "482c855e-b297-4fc0-e476-44d1de5bc57d"
      },
      "source": [
        "pip install PyPortfolioOpt"
      ],
      "execution_count": null,
      "outputs": [
        {
          "output_type": "stream",
          "text": [
            "Requirement already satisfied: PyPortfolioOpt in /usr/local/lib/python3.7/dist-packages (1.4.1)\n",
            "Requirement already satisfied: cvxpy<2.0.0,>=1.1.10 in /usr/local/lib/python3.7/dist-packages (from PyPortfolioOpt) (1.1.12)\n",
            "Requirement already satisfied: scipy<2.0,>=1.3 in /usr/local/lib/python3.7/dist-packages (from PyPortfolioOpt) (1.4.1)\n",
            "Requirement already satisfied: pandas>=0.19 in /usr/local/lib/python3.7/dist-packages (from PyPortfolioOpt) (1.1.5)\n",
            "Requirement already satisfied: numpy<2.0,>=1.12 in /usr/local/lib/python3.7/dist-packages (from PyPortfolioOpt) (1.19.5)\n",
            "Requirement already satisfied: osqp>=0.4.1 in /usr/local/lib/python3.7/dist-packages (from cvxpy<2.0.0,>=1.1.10->PyPortfolioOpt) (0.6.2.post0)\n",
            "Requirement already satisfied: scs>=1.1.6 in /usr/local/lib/python3.7/dist-packages (from cvxpy<2.0.0,>=1.1.10->PyPortfolioOpt) (2.1.3)\n",
            "Requirement already satisfied: ecos>=2 in /usr/local/lib/python3.7/dist-packages (from cvxpy<2.0.0,>=1.1.10->PyPortfolioOpt) (2.0.7.post1)\n",
            "Requirement already satisfied: python-dateutil>=2.7.3 in /usr/local/lib/python3.7/dist-packages (from pandas>=0.19->PyPortfolioOpt) (2.8.1)\n",
            "Requirement already satisfied: pytz>=2017.2 in /usr/local/lib/python3.7/dist-packages (from pandas>=0.19->PyPortfolioOpt) (2018.9)\n",
            "Requirement already satisfied: qdldl in /usr/local/lib/python3.7/dist-packages (from osqp>=0.4.1->cvxpy<2.0.0,>=1.1.10->PyPortfolioOpt) (0.1.5.post0)\n",
            "Requirement already satisfied: six>=1.5 in /usr/local/lib/python3.7/dist-packages (from python-dateutil>=2.7.3->pandas>=0.19->PyPortfolioOpt) (1.15.0)\n"
          ],
          "name": "stdout"
        }
      ]
    },
    {
      "cell_type": "code",
      "metadata": {
        "id": "cjkJJzd40DI2"
      },
      "source": [
        "# Import PyPortfolioOpt libs\n",
        "from pypfopt.efficient_frontier import EfficientFrontier\n",
        "from pypfopt import risk_models\n",
        "from pypfopt import expected_returns"
      ],
      "execution_count": null,
      "outputs": []
    },
    {
      "cell_type": "code",
      "metadata": {
        "id": "Uxp5lbP20F1C"
      },
      "source": [
        "# Calculate the expected returns and the annualised sample covariance matrix of daily asset returns.\n",
        "mu = expected_returns.mean_historical_return(df)#returns.mean() * 252\n",
        "S = risk_models.sample_cov(df) #Get the sample covariance matrix"
      ],
      "execution_count": null,
      "outputs": []
    },
    {
      "cell_type": "code",
      "metadata": {
        "id": "uXpjl-G00H3A",
        "colab": {
          "base_uri": "https://localhost:8080/"
        },
        "outputId": "d4dfbcb9-c40a-4268-84f8-99419b3ca7ad"
      },
      "source": [
        "# Optimize for maximal Sharpe ratio.\n",
        "ef = EfficientFrontier(mu, S)\n",
        "weights = ef.max_sharpe() #Maximize the Sharpe ratio, and get the raw weights\n",
        "cleaned_weights = ef.clean_weights() \n",
        "print(cleaned_weights) #Note the weights may have some rounding error, meaning they may not add up exactly to 1 but should be close\n",
        "ef.portfolio_performance(verbose=True)"
      ],
      "execution_count": null,
      "outputs": [
        {
          "output_type": "stream",
          "text": [
            "OrderedDict([('ANKR-USD', 0.0), ('RVN-USD', 0.0), ('UMA-USD', 1.0)])\n",
            "Expected annual return: 212.4%\n",
            "Annual volatility: 117.5%\n",
            "Sharpe Ratio: 1.79\n"
          ],
          "name": "stdout"
        },
        {
          "output_type": "execute_result",
          "data": {
            "text/plain": [
              "(2.12380684560419, 1.1753715696151843, 1.7899078895476215)"
            ]
          },
          "metadata": {
            "tags": []
          },
          "execution_count": 200
        }
      ]
    },
    {
      "cell_type": "code",
      "metadata": {
        "id": "p6aFCdSm0JUs",
        "colab": {
          "base_uri": "https://localhost:8080/"
        },
        "outputId": "efe03345-fd4a-43ac-f375-567f049b872d"
      },
      "source": [
        "pip install pulp"
      ],
      "execution_count": null,
      "outputs": [
        {
          "output_type": "stream",
          "text": [
            "Requirement already satisfied: pulp in /usr/local/lib/python3.7/dist-packages (2.4)\n",
            "Requirement already satisfied: amply>=0.1.2 in /usr/local/lib/python3.7/dist-packages (from pulp) (0.1.4)\n",
            "Requirement already satisfied: docutils>=0.3 in /usr/local/lib/python3.7/dist-packages (from amply>=0.1.2->pulp) (0.17)\n",
            "Requirement already satisfied: pyparsing in /usr/local/lib/python3.7/dist-packages (from amply>=0.1.2->pulp) (2.4.7)\n"
          ],
          "name": "stdout"
        }
      ]
    },
    {
      "cell_type": "code",
      "metadata": {
        "id": "93Ce_-fG0KLh",
        "colab": {
          "base_uri": "https://localhost:8080/"
        },
        "outputId": "bb3e6f75-b104-4998-e4ba-4677682b52d1"
      },
      "source": [
        "# How much, how many should I buy?\n",
        "from pypfopt.discrete_allocation import DiscreteAllocation, get_latest_prices\n",
        "latest_prices = get_latest_prices(df)\n",
        "weights = cleaned_weights \n",
        "da = DiscreteAllocation(weights, latest_prices, total_portfolio_value=10000) #<------Set your portfolio value or amount to invest\n",
        "allocation, leftover = da.lp_portfolio()\n",
        "print(\"Discrete allocation:\", allocation)\n",
        "print(\"Funds remaining: ${:.2f}\".format(leftover))"
      ],
      "execution_count": null,
      "outputs": [
        {
          "output_type": "stream",
          "text": [
            "Discrete allocation: {'UMA-USD': 374}\n",
            "Funds remaining: $11.30\n"
          ],
          "name": "stdout"
        }
      ]
    }
  ]
}
